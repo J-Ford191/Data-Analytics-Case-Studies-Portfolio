{
 "cells": [
  {
   "cell_type": "markdown",
   "id": "0699fee4",
   "metadata": {},
   "source": [
    "# 03 · Tableau Extracts\n",
    "\n",
    "**Goal:** Export curated CSVs for Tableau Public dashboard."
   ]
  },
  {
   "cell_type": "code",
   "execution_count": null,
   "id": "63d2b38a",
   "metadata": {},
   "outputs": [],
   "source": [
    "import pathlib\n",
    "import pandas as pd\n",
    "\n",
    "DATA = pathlib.Path('../data/processed')\n",
    "OUT = DATA  # write curated extracts alongside processed data\n",
    "\n",
    "ae_path = DATA/'monthly_ae.csv'\n",
    "ecds_path = DATA/'ecds_monthly.csv'\n",
    "if not ae_path.exists() or not ecds_path.exists():\n",
    "    print('Processed files not found. Run previous notebooks first.')\n",
    "\n",
    "if ae_path.exists() and ecds_path.exists():\n",
    "    ae = pd.read_csv(ae_path, parse_dates=['month_date'])\n",
    "    ecds = pd.read_csv(ecds_path, parse_dates=['month_date'])\n",
    "\n",
    "    # Provider monthly KPIs\n",
    "    ecds_sum = ecds.groupby(['provider_code','provider_name','month_date'], as_index=False)[\n",
    "        ['type12_attendances','arrivals_12h_or_more']\n",
    "    ].sum()\n",
    "    kpi = ae.merge(ecds_sum, on=['provider_code','provider_name','month_date'], how='left')\n",
    "    kpi['pct_within_4h'] = kpi['within_4h_count'] / kpi['total_attendances']\n",
    "    kpi['rate_12h_from_arrival'] = kpi['arrivals_12h_or_more'] / kpi['type12_attendances']\n",
    "    kpi['admit_conversion'] = kpi['emergency_admissions'] / kpi['type12_attendances']\n",
    "    kpi['over4h_dta_rate'] = kpi['over4h_after_dta'] / kpi['emergency_admissions']\n",
    "\n",
    "    kpi_out = OUT/'provider_monthly.csv'\n",
    "    kpi.to_csv(kpi_out, index=False)\n",
    "    print(f'Exported {kpi_out}')\n",
    "\n",
    "    # Benchmarks (MoM deltas)\n",
    "    kpi = kpi.sort_values(['provider_code','month_date'])\n",
    "    kpi['mom_delta_4h'] = kpi.groupby('provider_code')['pct_within_4h'].diff()\n",
    "    kpi['mom_delta_12h'] = kpi.groupby('provider_code')['rate_12h_from_arrival'].diff()\n",
    "    bm_out = OUT/'benchmarks.csv'\n",
    "    kpi[['provider_code','provider_name','month_date','pct_within_4h','rate_12h_from_arrival','admit_conversion','over4h_dta_rate','mom_delta_4h','mom_delta_12h']].to_csv(bm_out, index=False)\n",
    "    print(f'Exported {bm_out}')\n",
    "\n",
    "    # Optional: ECDS age/frailty slice if available\n",
    "    if 'age_band' in ecds.columns or 'cfs_band' in ecds.columns:\n",
    "        ecds_slice = ecds.copy()\n",
    "        ecds_slice_out = OUT/'ecds_age_frailty.csv'\n",
    "        ecds_slice.to_csv(ecds_slice_out, index=False)\n",
    "        print(f'Exported {ecds_slice_out}')\n"
   ]
  }
 ],
 "metadata": {},
 "nbformat": 4,
 "nbformat_minor": 5
}
